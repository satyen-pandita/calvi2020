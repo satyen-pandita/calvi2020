{
 "cells": [
  {
   "cell_type": "markdown",
   "id": "1bb37eb1-0812-4cd2-8634-f4aeb08de651",
   "metadata": {},
   "source": [
    "# Aim\n",
    "\n",
    "This code converts `raw/hces24_lvl_*.txt` files to `proc/ces24_lvl_*.dta` files. \n",
    "The `.txt` files has columns separated by space, and rows separated by `\\n`\n",
    "The column names are given in `raw/Layout_HCES_2023-24.xlsx`\n"
   ]
  },
  {
   "cell_type": "code",
   "execution_count": 12,
   "id": "729aecb1-4908-4387-b9ef-71448278fa77",
   "metadata": {
    "tags": []
   },
   "outputs": [],
   "source": [
    "import pandas as pd\n",
    "import os"
   ]
  },
  {
   "cell_type": "code",
   "execution_count": 32,
   "id": "336c0e82-61c5-4d76-922f-d1d5a12988d7",
   "metadata": {
    "tags": []
   },
   "outputs": [],
   "source": [
    "inpath = \"../raw/hces24/\"\n",
    "outpath = \"../proc/\""
   ]
  },
  {
   "cell_type": "code",
   "execution_count": 80,
   "id": "57c92f3d-a93f-48ca-8632-1a1ad4d04d55",
   "metadata": {
    "tags": []
   },
   "outputs": [],
   "source": [
    "COLS = [1, 6, 8]\n",
    "# ROWS contains for each level - [header, nrows]\n",
    "ROWS = {\"lvl_01\": [3, 21], \"lvl_02\": [29, 21]}"
   ]
  },
  {
   "cell_type": "code",
   "execution_count": 29,
   "id": "293ea9d0-db73-4dca-80fd-0db59b21a65d",
   "metadata": {
    "tags": []
   },
   "outputs": [],
   "source": [
    "df = pd.read_excel(\"../raw/hces24/Layout_HCES_2023-24.xlsx\", header=3, usecols=COLS, nrows=21)"
   ]
  },
  {
   "cell_type": "code",
   "execution_count": 81,
   "id": "d919517e-b79c-4812-a079-7fabdda8d65c",
   "metadata": {
    "tags": []
   },
   "outputs": [],
   "source": [
    "df.columns = [\"item\", \"start\", \"stop\"]"
   ]
  },
  {
   "cell_type": "code",
   "execution_count": 82,
   "id": "cf11271e-f898-444b-bc92-af958921e3b1",
   "metadata": {
    "tags": []
   },
   "outputs": [
    {
     "data": {
      "text/html": [
       "<div>\n",
       "<style scoped>\n",
       "    .dataframe tbody tr th:only-of-type {\n",
       "        vertical-align: middle;\n",
       "    }\n",
       "\n",
       "    .dataframe tbody tr th {\n",
       "        vertical-align: top;\n",
       "    }\n",
       "\n",
       "    .dataframe thead th {\n",
       "        text-align: right;\n",
       "    }\n",
       "</style>\n",
       "<table border=\"1\" class=\"dataframe\">\n",
       "  <thead>\n",
       "    <tr style=\"text-align: right;\">\n",
       "      <th></th>\n",
       "      <th>item</th>\n",
       "      <th>start</th>\n",
       "      <th>stop</th>\n",
       "    </tr>\n",
       "  </thead>\n",
       "  <tbody>\n",
       "    <tr>\n",
       "      <th>16</th>\n",
       "      <td>Questionnaire No.</td>\n",
       "      <td>39</td>\n",
       "      <td>39</td>\n",
       "    </tr>\n",
       "    <tr>\n",
       "      <th>17</th>\n",
       "      <td>Level</td>\n",
       "      <td>40</td>\n",
       "      <td>41</td>\n",
       "    </tr>\n",
       "    <tr>\n",
       "      <th>18</th>\n",
       "      <td>Survey Code</td>\n",
       "      <td>42</td>\n",
       "      <td>42</td>\n",
       "    </tr>\n",
       "    <tr>\n",
       "      <th>19</th>\n",
       "      <td>Reason for substitution Code</td>\n",
       "      <td>43</td>\n",
       "      <td>43</td>\n",
       "    </tr>\n",
       "    <tr>\n",
       "      <th>20</th>\n",
       "      <td>Multiplier</td>\n",
       "      <td>44</td>\n",
       "      <td>58</td>\n",
       "    </tr>\n",
       "  </tbody>\n",
       "</table>\n",
       "</div>"
      ],
      "text/plain": [
       "                            item  start  stop\n",
       "16             Questionnaire No.     39    39\n",
       "17                        Level      40    41\n",
       "18                   Survey Code     42    42\n",
       "19  Reason for substitution Code     43    43\n",
       "20                    Multiplier     44    58"
      ]
     },
     "execution_count": 82,
     "metadata": {},
     "output_type": "execute_result"
    }
   ],
   "source": [
    "df.tail()"
   ]
  },
  {
   "cell_type": "code",
   "execution_count": 83,
   "id": "1c46eac7-cc10-483c-8f0c-7043b78e9c44",
   "metadata": {
    "tags": []
   },
   "outputs": [
    {
     "name": "stdout",
     "output_type": "stream",
     "text": [
      "['HCES', '2024', '46667', '1', '01', '012', '06', '13', '01', '2', '2', '0110', '3', '', '3', '01', 'H', '01', '1', '', '24840.0']\n",
      "['HCES2024403761323210523021 132102  201', 'H', '02', '02', '2', '2', '47', '2', '05', '9', '1', '0', '3', '', '', '2', '', '88', '1', '1', '153083.0']\n"
     ]
    }
   ],
   "source": [
    "levels = [\"01\", \"02\"]\n",
    "Rows = {}\n",
    "for lvl in levels:\n",
    "    level = f\"lvl_{lvl}\"\n",
    "    # layout tells me what each bit means in a string\n",
    "    # Each row in the layout df has a start and end index\n",
    "    layout = pd.read_excel(f\"{inpath}Layout_HCES_2023-24.xlsx\", header=ROWS[level][0],\n",
    "                           usecols=COLS, nrows=ROWS[level][1])\n",
    "    layout.columns = ['item', 'start', 'end']\n",
    "    layout.set_index(\"item\", inplace=True)\n",
    "    # fname: the current txt file\n",
    "    fname = f\"{inpath}hces24_{level}.txt\"\n",
    "    file = open(fname)\n",
    "    # rows will store all the lines in file\n",
    "    # as a, well, row\n",
    "    rows = []\n",
    "    # start/end idx\n",
    "    start = layout['start']\n",
    "    end = layout['end']\n",
    "    for line in file:\n",
    "        # For each line, I extract bits with string\n",
    "        # positions given by start and end. \n",
    "        # The collection of these bits makes a row in my final df\n",
    "        row = [line[int(start[i])-1:int(end[i])].strip() for i in range(len(layout))]\n",
    "        rows.append(row)\n",
    "    \n",
    "    print(rows[1])\n",
    "    Rows[level] = rows"
   ]
  },
  {
   "cell_type": "code",
   "execution_count": 105,
   "id": "1b77947b-c57e-49a1-bfa2-ffd4b220e117",
   "metadata": {
    "tags": []
   },
   "outputs": [
    {
     "data": {
      "text/plain": [
       "35"
      ]
     },
     "execution_count": 105,
     "metadata": {},
     "output_type": "execute_result"
    }
   ],
   "source": [
    "len(\"\".join(Rows[\"lvl_01\"][0][:-5]))"
   ]
  },
  {
   "cell_type": "code",
   "execution_count": 99,
   "id": "32391e40-a666-4cc8-9d3f-1f545fdfd6dc",
   "metadata": {
    "tags": []
   },
   "outputs": [
    {
     "data": {
      "text/plain": [
       "['HCES',\n",
       " '2024',\n",
       " '46667',\n",
       " '1',\n",
       " '01',\n",
       " '012',\n",
       " '06',\n",
       " '13',\n",
       " '01',\n",
       " '2',\n",
       " '2',\n",
       " '0110',\n",
       " '3',\n",
       " '',\n",
       " '2',\n",
       " '01',\n",
       " 'H',\n",
       " '01',\n",
       " '1',\n",
       " '',\n",
       " '16669.0']"
      ]
     },
     "execution_count": 99,
     "metadata": {},
     "output_type": "execute_result"
    }
   ],
   "source": [
    "[0]"
   ]
  },
  {
   "cell_type": "code",
   "execution_count": 49,
   "id": "7afbd7c4-0f86-4f5d-b85f-7c1dfd27fb58",
   "metadata": {
    "tags": []
   },
   "outputs": [
    {
     "data": {
      "text/html": [
       "<div>\n",
       "<style scoped>\n",
       "    .dataframe tbody tr th:only-of-type {\n",
       "        vertical-align: middle;\n",
       "    }\n",
       "\n",
       "    .dataframe tbody tr th {\n",
       "        vertical-align: top;\n",
       "    }\n",
       "\n",
       "    .dataframe thead th {\n",
       "        text-align: right;\n",
       "    }\n",
       "</style>\n",
       "<table border=\"1\" class=\"dataframe\">\n",
       "  <thead>\n",
       "    <tr style=\"text-align: right;\">\n",
       "      <th></th>\n",
       "      <th>Item</th>\n",
       "      <th>Byte Position</th>\n",
       "      <th>Unnamed: 8</th>\n",
       "    </tr>\n",
       "  </thead>\n",
       "  <tbody>\n",
       "    <tr>\n",
       "      <th>0</th>\n",
       "      <td>Common-ID</td>\n",
       "      <td>1</td>\n",
       "      <td>38.0</td>\n",
       "    </tr>\n",
       "    <tr>\n",
       "      <th>1</th>\n",
       "      <td>Questionnaire No.</td>\n",
       "      <td>39</td>\n",
       "      <td>39.0</td>\n",
       "    </tr>\n",
       "    <tr>\n",
       "      <th>2</th>\n",
       "      <td>Level</td>\n",
       "      <td>40</td>\n",
       "      <td>41.0</td>\n",
       "    </tr>\n",
       "    <tr>\n",
       "      <th>3</th>\n",
       "      <td>Person Srl No.</td>\n",
       "      <td>42</td>\n",
       "      <td>43.0</td>\n",
       "    </tr>\n",
       "    <tr>\n",
       "      <th>4</th>\n",
       "      <td>Relation to head (code)</td>\n",
       "      <td>44</td>\n",
       "      <td>44.0</td>\n",
       "    </tr>\n",
       "  </tbody>\n",
       "</table>\n",
       "</div>"
      ],
      "text/plain": [
       "                      Item Byte Position  Unnamed: 8\n",
       "0                Common-ID             1        38.0\n",
       "1        Questionnaire No.            39        39.0\n",
       "2                    Level            40        41.0\n",
       "3           Person Srl No.            42        43.0\n",
       "4  Relation to head (code)            44        44.0"
      ]
     },
     "execution_count": 49,
     "metadata": {},
     "output_type": "execute_result"
    }
   ],
   "source": [
    "layout.head()"
   ]
  },
  {
   "cell_type": "code",
   "execution_count": null,
   "id": "3851f9f7-c6c1-4348-8a2b-0412b03b9f67",
   "metadata": {},
   "outputs": [],
   "source": []
  }
 ],
 "metadata": {
  "kernelspec": {
   "display_name": "Python 3 (ipykernel)",
   "language": "python",
   "name": "python3"
  },
  "language_info": {
   "codemirror_mode": {
    "name": "ipython",
    "version": 3
   },
   "file_extension": ".py",
   "mimetype": "text/x-python",
   "name": "python",
   "nbconvert_exporter": "python",
   "pygments_lexer": "ipython3",
   "version": "3.11.5"
  }
 },
 "nbformat": 4,
 "nbformat_minor": 5
}
